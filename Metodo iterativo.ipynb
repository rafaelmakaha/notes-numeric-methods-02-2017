{
 "cells": [
  {
   "cell_type": "code",
   "execution_count": null,
   "metadata": {},
   "outputs": [],
   "source": [
    "## Métodos iterativos para solução de sistemas lineares"
   ]
  },
  {
   "cell_type": "code",
   "execution_count": null,
   "metadata": {},
   "outputs": [],
   "source": [
    "import numpy as np"
   ]
  },
  {
   "cell_type": "code",
   "execution_count": null,
   "metadata": {},
   "outputs": [],
   "source": [
    "#Vamos resolver o sistema linear Mx = b\n",
    "# Para isso, declaramos a matriz M e o vetor b\n",
    "M = np.array([\n",
    "    [-5.1,2,3],\n",
    "    [5,8,2],\n",
    "    [1,0,3],\n",
    "])\n",
    "b = np.array([1,2,3])"
   ]
  },
  {
   "cell_type": "code",
   "execution_count": null,
   "metadata": {},
   "outputs": [],
   "source": [
    "#Encontramos a resposta explicitamente como referência\n",
    "np.linalg.solve(M,b)"
   ]
  },
  {
   "cell_type": "code",
   "execution_count": null,
   "metadata": {},
   "outputs": [],
   "source": [
    "#Método de Jacobi\n",
    "#Extrai a diagonal de uma matriz e pega a sua inversa\n",
    "D = np.diag(np.diag(M))\n",
    "D_inversa = np.diag(1/np.diag(M))"
   ]
  },
  {
   "cell_type": "code",
   "execution_count": null,
   "metadata": {},
   "outputs": [],
   "source": [
    "#Extraimos a matriz B\n",
    "R = M - D\n",
    "\n",
    "print(\"Matriz resto:\")\n",
    "print(R)"
   ]
  },
  {
   "cell_type": "code",
   "execution_count": null,
   "metadata": {},
   "outputs": [],
   "source": [
    "#Escolhemos um chute inicial\n",
    "x = [1,2,3]\n",
    "\n",
    "#Iteramos várias vezes\n",
    "for i in range(200):\n",
    "    print('iteração', i)\n",
    "    y = np.dot(D_inversa, (b - np.dot(R,x)))\n",
    "    delta = np.sum(np.abs(x - y))\n",
    "    if delta < 1e-3:\n",
    "        break\n",
    "    x = y\n",
    "    print(x)"
   ]
  },
  {
   "cell_type": "code",
   "execution_count": null,
   "metadata": {},
   "outputs": [],
   "source": [
    "def solve(M,b, max_iter=100, tol=1e-5):\n",
    "    \"\"\"\n",
    "    Resolve o sistema linear M x = b, retornando x.\n",
    "    \n",
    "    Utiliza o método de Jacobi\n",
    "    \"\"\"\n",
    "    M = np.asarray(M)\n",
    "    b = np.asarray(b)\n",
    "    \n",
    "    #Extrai D Dinv e R\n",
    "    diagonal_vetor = np.diag(M)\n",
    "    D = np.diag(diagonal_vetor)\n",
    "    Dinv = np.diag(1/diagonal_vetor)\n",
    "    R = M - D\n",
    "    \n",
    "    #Realiza o loop inicial\n",
    "    x = b\n",
    "    for i in range(max_iter):\n",
    "        x_ = np.dot(Dinv, (b - np.dot(R,x)))\n",
    "        if np.sum(np.abs(x - x_)) < tol:\n",
    "            return x_\n",
    "        x = x_\n",
    "    return ValueError('método não convergiu!')"
   ]
  },
  {
   "cell_type": "code",
   "execution_count": null,
   "metadata": {},
   "outputs": [],
   "source": [
    "solve(M,b)"
   ]
  }
 ],
 "metadata": {
  "kernelspec": {
   "display_name": "Python 3 (ipykernel)",
   "language": "python",
   "name": "python3"
  },
  "language_info": {
   "codemirror_mode": {
    "name": "ipython",
    "version": 3
   },
   "file_extension": ".py",
   "mimetype": "text/x-python",
   "name": "python",
   "nbconvert_exporter": "python",
   "pygments_lexer": "ipython3",
   "version": "3.9.12"
  }
 },
 "nbformat": 4,
 "nbformat_minor": 2
}
